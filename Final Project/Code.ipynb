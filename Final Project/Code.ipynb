{
 "cells": [
  {
   "cell_type": "markdown",
   "id": "5faa5295",
   "metadata": {},
   "source": [
    "# Data Mining\n",
    "\n",
    "## Đề tài cuối kì: Dự đoán thời gian tắc đường tại các giao lộ\n",
    "\n",
    "## Group 8\n",
    "\n",
    "\n",
    "# 1. Giới thiệu\n",
    "\n",
    "## 1.1 Giới thiệu\n",
    "\n",
    "Tất cả chúng ta đều đã bị kẹt xe ở một cột đèn giao thông, chỉ được dành vài giây để đi qua một ngã tư, phía sau một đoàn người đi khác. Đó là vấn đề cần phải giải quyết, để có thể giúp các nhà lập kế hoạch thành phố và chính phủ dự đoán trước các điểm nóng về giao thông và giảm bớt căng thẳng khi dừng và đi của hàng triệu người khi tham gia giao thông.\n",
    "\n",
    "Đầu tiên, ta cần import một số thư viện cần thiết vào đề tài."
   ]
  },
  {
   "cell_type": "code",
   "execution_count": null,
   "id": "47730674",
   "metadata": {
    "tags": [
     "remove_cell"
    ]
   },
   "outputs": [],
   "source": [
    "library(rsample)       \n",
    "library(gbm)          \n",
    "library(xgboost)     \n",
    "library(caret)        \n",
    "library(h2o)          \n",
    "library(pdp)          \n",
    "library(ggplot2)      \n",
    "library(lime)         \n",
    "library(stats)\n",
    "library(dplyr)\n",
    "library(gridExtra)\n",
    "library(ISLR)\n",
    "library(superml)"
   ]
  },
  {
   "cell_type": "markdown",
   "id": "c3125845",
   "metadata": {},
   "source": [
    "## 1.2 Dataset\n",
    "\n",
    "Bộ dữ liệu cho cuộc thi này bao gồm thông tin tổng hợp về các phương tiện đã dừng và thời gian chờ ở giao lộ. Nhiệm vụ của bạn là dự đoán tình trạng tắc nghẽn, dựa trên thước đo tổng hợp về khoảng cách dừng xe và thời gian chờ, tại các giao lộ ở 4 thành phố lớn của Hoa Kỳ: Atlanta, Boston, Chicago & Philadelphia.\n",
    "\n",
    "Tập dữ liệu này có 2 tập: train và test. Có số dòng như bên dưới:"
   ]
  },
  {
   "cell_type": "code",
   "execution_count": null,
   "id": "218a55f4",
   "metadata": {},
   "outputs": [],
   "source": [
    "trainData <- read.csv(file = 'train.csv')\n",
    "testData <- read.csv(file = 'test.csv')\n",
    "nrow(trainData)\n",
    "nrow(testData)"
   ]
  },
  {
   "cell_type": "markdown",
   "id": "f17a766e",
   "metadata": {},
   "source": [
    "Một số dòng đầu như sau:"
   ]
  },
  {
   "cell_type": "code",
   "execution_count": null,
   "id": "db71dd50",
   "metadata": {},
   "outputs": [],
   "source": [
    "head(trainData)"
   ]
  },
  {
   "cell_type": "code",
   "execution_count": null,
   "id": "d5c495d4",
   "metadata": {},
   "outputs": [],
   "source": [
    "head(testData)"
   ]
  },
  {
   "cell_type": "markdown",
   "id": "b74f9b83",
   "metadata": {},
   "source": [
    "## 1.3 Tiền xử lý dữ liệu\n",
    "\n",
    "Chúng ta sẽ đi tìm sự khác biệt giữa tập train và tập test.\n",
    "\n",
    "-   Tên các cột của tập train."
   ]
  },
  {
   "cell_type": "code",
   "execution_count": null,
   "id": "f403b55a",
   "metadata": {},
   "outputs": [],
   "source": [
    "print(\"train Col:\")\n",
    "print(names(trainData))"
   ]
  },
  {
   "cell_type": "markdown",
   "id": "222d4ae6",
   "metadata": {},
   "source": [
    "-   Tên các cột của tập test."
   ]
  },
  {
   "cell_type": "code",
   "execution_count": null,
   "id": "1a464b62",
   "metadata": {},
   "outputs": [],
   "source": [
    "print(\"test Col:\")\n",
    "print(names(testData))"
   ]
  },
  {
   "cell_type": "markdown",
   "id": "6bf95ac8",
   "metadata": {},
   "source": [
    "Ta thấy rõ ràng rằng các value trong tập train có nhiều cột hơn tập test rất nhiều. Điều này chứng tỏ các col bị dư đều dùng để dự đoán. Tuy nhiên, theo yêu cầu competition này, ta chỉ cần dự đoán 6 biến. Gồm(TotalTimeStopped_p20, TotalTimeStopped_p50, TotalTimeStopped_p80, DistanceToFirstStop_p20, DistanceToFirstStop_p50, DistanceToFirstStop_p80)\\\n",
    "Do đó, ta sẽ loại bỏ các biến dư thừa còn lại."
   ]
  },
  {
   "cell_type": "code",
   "execution_count": null,
   "id": "3e3e18c6",
   "metadata": {},
   "outputs": [],
   "source": [
    "print(head(trainData[,names(trainData) %in% c(\"Path\",\"EntryStreetName\",\"EntryHeading\",\"ExitStreetName\",\"ExitHeading\")]))"
   ]
  },
  {
   "cell_type": "markdown",
   "id": "268e3f3a",
   "metadata": {},
   "source": [
    "Với cột Path đã được mô tả ở 4 cột EntryStreetName, ExitStreetName, EntryHeading và ExitHeading nên ta sẽ bỏ không phân tích cột Path. Vả lại, đây là những biến category, chúng ta sẽ cần phải chuyển nó sang number trước khi tiến vào đào tạo mô hình.\n",
    "\n",
    "Ở tạp train thì có nhiều cột tuy nhiên sang tập test thì chỉ còn 11 biến dự đoán nên nhóm lượt bỏ bớt những biến ở tập train có mà tập test không có. Mục đích để tăng hiệu suất mô hình."
   ]
  },
  {
   "cell_type": "code",
   "execution_count": null,
   "id": "9fb39867",
   "metadata": {},
   "outputs": [],
   "source": [
    "# We will remove some columns,\n",
    "col<-c(\"IntersectionId\",\"Latitude\",\"Longitude\",\"EntryStreetName\",\"ExitStreetName\",\"EntryHeading\",\"ExitHeading\",\"Hour\",\"Weekend\",\"Month\",\"City\",\"TotalTimeStopped_p20\",\"DistanceToFirstStop_p20\",\"TotalTimeStopped_p50\",\"DistanceToFirstStop_p50\",\"TotalTimeStopped_p80\",\"DistanceToFirstStop_p80\")\n",
    "trainData<-trainData[,names(trainData) %in% col]\n",
    "testData<-testData[,!(names(testData) %in% c(\"RowId\",\"Path\"))]\n",
    "\n",
    "print(\"train Col:\")\n",
    "print(names(trainData))"
   ]
  },
  {
   "cell_type": "code",
   "execution_count": null,
   "id": "c4be79fe",
   "metadata": {},
   "outputs": [],
   "source": [
    "print(\"test Col:\")\n",
    "print(names(testData))"
   ]
  },
  {
   "cell_type": "markdown",
   "id": "37ee9f28",
   "metadata": {},
   "source": [
    "## 1.4 LabelEncoder\n",
    "\n",
    "Bởi vì tập dữu liệu chứa các giá trị category, nên chúng ta cần xử lý những giá trị đó sang giá trị number để đào tạo mô hình. Dưới đây nhóm sử dụng hàm labelencoder trong thư viện `superml` cho các biến đã làm rõ ở trên."
   ]
  },
  {
   "cell_type": "code",
   "execution_count": null,
   "id": "44c189c5",
   "metadata": {
    "tags": [
     "remove_cell"
    ]
   },
   "outputs": [],
   "source": [
    "#Encoder Data\n",
    "\n",
    "\n",
    "label <- LabelEncoder$new()\n",
    "\n",
    "trainData$EntryStreetName <- label$fit_transform(trainData$EntryStreetName)\n",
    "\n",
    "trainData$ExitStreetName <- label$fit_transform(trainData$ExitStreetName)\n",
    "\n",
    "trainData$EntryHeading <- label$fit_transform(trainData$EntryHeading)\n",
    "\n",
    "trainData$ExitHeading <- label$fit_transform(trainData$ExitHeading)\n",
    "\n",
    "trainData$City <- label$fit_transform(trainData$City)\n"
   ]
  },
  {
   "cell_type": "markdown",
   "id": "e4515083",
   "metadata": {},
   "source": [
    "Tiếp theo để có cái nhìn chung hơn về mô hình đào tạo, nhóm sẽ chia tập train ra 7 phần để đào tạo, 3 phần để đánh giá mô hình."
   ]
  },
  {
   "cell_type": "code",
   "execution_count": null,
   "id": "b50d2c45",
   "metadata": {},
   "outputs": [],
   "source": [
    "#We will divide trainData into train and val \n",
    "dx = sample(nrow(trainData),nrow(trainData)*0.7)\n",
    "train<-trainData[dx,]\n",
    "val<-trainData[-dx,]\n",
    "nrow(train)\n",
    "nrow(val)"
   ]
  },
  {
   "cell_type": "markdown",
   "id": "07fad97c",
   "metadata": {},
   "source": [
    "Bước tiếp theo là tạo tập biến phản hồi Y, bởi vì tập train quá lớn (gần 600000 dòng) nên chúng ta sẽ giảm lại còn 10000 để có thể chạy được trên máy."
   ]
  },
  {
   "cell_type": "code",
   "execution_count": null,
   "id": "6ec15813",
   "metadata": {},
   "outputs": [],
   "source": [
    "#Now, we are having some problem with processing times, so we will only take some data from train and test\n",
    "#So, if you can, you will modify num of train row and val row\n",
    "object<-c('TotalTimeStopped_p20','TotalTimeStopped_p50','TotalTimeStopped_p80','DistanceToFirstStop_p20','DistanceToFirstStop_p50','DistanceToFirstStop_p80')\n",
    "\n",
    "train_sp<-sample_n(train,10000)\n",
    "val_sp<-sample_n(val,10000)"
   ]
  },
  {
   "cell_type": "markdown",
   "id": "b0b3cb33",
   "metadata": {},
   "source": [
    "# 2. Mô hình đào tạo\n",
    "\n",
    "## 2.1 Linear Regression\n",
    "\n",
    "Chúng ta sẽ tạo một vòng lặp từ 1 tới 6 để mô hình chạy lần lượt các biến y, và xuất ra các kết quả. Các giá trị bên dưới đại diện cho RMSE của các biến y."
   ]
  },
  {
   "cell_type": "code",
   "execution_count": null,
   "id": "d596abf7",
   "metadata": {},
   "outputs": [],
   "source": [
    "#Try some models\n",
    "#Linear\n",
    "preFrame <- {}\n",
    "valFrame<-{}\n",
    "\n",
    "for(i in object[1:6]){\n",
    "    rmc<-object[object!=i]\n",
    "   \n",
    "    train_20<-train_sp[,!(names(train_sp) %in% rmc)]\n",
    "    val_20<-val_sp[,!(names(val_sp) %in% rmc)]\n",
    "    ctrl <- trainControl(method = \"cv\",number = 7)\n",
    "    \n",
    "    lm<-switch(i,\n",
    "        'TotalTimeStopped_p20'=train(TotalTimeStopped_p20 ~.,data = train_20,method = \"lm\",trControl = ctrl,),\n",
    "        'DistanceToFirstStop_p20'=train(DistanceToFirstStop_p20~., data = train_20,method='lm',trControl = ctrl,),   \n",
    "        'TotalTimeStopped_p50'=train(TotalTimeStopped_p50~., data = train_20,method='lm',trControl = ctrl,),   \n",
    "        'DistanceToFirstStop_p50'=train(DistanceToFirstStop_p50~., data = train_20,method='lm',trControl = ctrl,),    \n",
    "        'TotalTimeStopped_p80'=train(TotalTimeStopped_p80~., data = train_20,method='lm',trControl = ctrl,), \n",
    "        'DistanceToFirstStop_p80'=train(DistanceToFirstStop_p80~., data = train_20,method='lm',trControl = ctrl,)\n",
    "      )\n",
    "      x_val<-val_20[,!(names(val_20) %in% i)]\n",
    "      y_val<-val_20[,(names(val_20) = i)]\n",
    "      predicted <- predict(lm,x_val)  \n",
    "      rmse<-RMSE(predicted,y_val)\n",
    "      print(i)\n",
    "      print(rmse)\n",
    "    \n",
    "      preFrame[[i]]<-predicted \n",
    "      valFrame[[i]]<-y_val\n",
    "}\n",
    "preFrame<-as.data.frame(preFrame)\n",
    "valFrame<-as.data.frame(valFrame)\n",
    "#print(preFrame)\n",
    "#print(valFrame)\n",
    "\n",
    "pre<-c(t(preFrame))\n",
    "obs<-c(t(valFrame))\n",
    "\n",
    "rmse<-RMSE(pre,obs)"
   ]
  },
  {
   "cell_type": "markdown",
   "id": "d898ca0f",
   "metadata": {},
   "source": [
    "## 2.2 K-nn model\n",
    "\n",
    "Ở đây, nhóm sử dụng mô hình K-nn để dự đoán các giá trị như mô hình Linear. Mẫu ban đầu lấy là 10000, chia làm 7, Độ rộng để chạy k là 30, sau đó nó lấy kết quả tốt nhất:"
   ]
  },
  {
   "cell_type": "code",
   "execution_count": null,
   "id": "907ecba8",
   "metadata": {},
   "outputs": [],
   "source": [
    "#knn\n",
    "preFrame <- {}\n",
    "valFrame<-{}\n",
    "\n",
    "ctrl <- trainControl(method = \"cv\",number = 7)\n",
    "\n",
    "for(i in object[1:6]){\n",
    "    rmc<-object[object!=i]\n",
    "    train_20<-train_sp[,!(names(train_sp) %in% rmc)]\n",
    "    val_20<-train_sp[,!(names(train_sp) %in% rmc)]\n",
    "    \n",
    "    set.seed(1000)\n",
    "    knn<-switch(i,\n",
    "                'TotalTimeStopped_p20'=train(TotalTimeStopped_p20 ~ .,data = train_20,method = \"knn\", trControl = ctrl, preProcess = c(\"center\",\"scale\"), tuneLength = 30),\n",
    "                'DistanceToFirstStop_p20'=train(DistanceToFirstStop_p20 ~ .,data = train_20,method=\"knn\",trControl = ctrl, preProcess = c(\"center\",\"scale\"), tuneLength = 30),   \n",
    "                'TotalTimeStopped_p50'=train(TotalTimeStopped_p50 ~ .,data = train_20,method = \"knn\",trControl = ctrl, preProcess = c(\"center\",\"scale\"), tuneLength = 30),\n",
    "                'DistanceToFirstStop_p50'=train(DistanceToFirstStop_p50 ~ .,data=train_20,method=\"knn\",trControl = ctrl, preProcess = c(\"center\",\"scale\"), tuneLength = 30),\n",
    "                'TotalTimeStopped_p80'=train(TotalTimeStopped_p80 ~ .,data = train_20,method = \"knn\",trControl = ctrl, preProcess = c(\"center\",\"scale\"), tuneLength = 30),\n",
    "                'DistanceToFirstStop_p80'=train(DistanceToFirstStop_p80 ~ .,data =train_20,method=\"knn\",trControl = ctrl, preProcess = c(\"center\",\"scale\"), tuneLength = 30)\n",
    "               )\n",
    "    #print(knn)\n",
    "    #print(plot(knn))\n",
    "    \n",
    "    x_val<-val_20[,!(names(val_20) %in% i)]\n",
    "    y_val<-val_20[,(names(val_20) = i)]\n",
    "    predicted <- predict(knn,x_val)  \n",
    "    rmse<-RMSE(predicted,y_val)\n",
    "    print(i)\n",
    "    print(rmse)\n",
    "    \n",
    "    preFrame[[i]]<-predicted \n",
    "    valFrame[[i]]<-y_val\n",
    "}\n",
    "preFrame<-as.data.frame(preFrame)\n",
    "valFrame<-as.data.frame(valFrame)\n",
    "#print(preFrame)\n",
    "#print(valFrame)\n",
    "\n",
    "pre<-c(t(preFrame))\n",
    "obs<-c(t(valFrame))\n",
    "\n",
    "rmse<-RMSE(pre,obs)\n",
    "#print(\"General target rmse\")\n",
    "#print(rmse)"
   ]
  },
  {
   "cell_type": "markdown",
   "id": "3ebcc523",
   "metadata": {},
   "source": [
    "Sau khi chạy xong mô hình K-nn, ta có kết quả như trên.\n",
    "\n",
    "## 2.3 Random Forest model\n",
    "\n",
    "Với mô hình Random Forest, nhóm sử dụng method `cross validation` với `number` = 7."
   ]
  },
  {
   "cell_type": "code",
   "execution_count": null,
   "id": "47fbe9c3",
   "metadata": {},
   "outputs": [],
   "source": [
    "#random forest\n",
    "preFrame <- {}\n",
    "valFrame<-{}\n",
    "\n",
    "trControl = trainControl(method = \"cv\", number = 7, allowParallel = TRUE, verboseIter = FALSE)\n",
    "\n",
    "for(i in object[1:6]){\n",
    "    rmc<-object[object!=i]\n",
    "    train_20<-train_sp[,!(names(train_sp) %in% rmc)]\n",
    "    val_20<-train_sp[,!(names(train_sp) %in% rmc)]\n",
    "    \n",
    "    set.seed(1000)\n",
    "    rf<-switch(i,\n",
    "               'TotalTimeStopped_p20'= train(TotalTimeStopped_p20 ~.,data = train_20,method = \"rf\",trControl = trControl),\n",
    "               'DistanceToFirstStop_p20'=train(DistanceToFirstStop_p20 ~., data = train_20,method = \"rf\",trControl = trControl),\n",
    "               'TotalTimeStopped_p50'=train(TotalTimeStopped_p50 ~., data = train_20,method = \"rf\",trControl = trControl), \n",
    "               'DistanceToFirstStop_p50'=train(DistanceToFirstStop_p50 ~.,data = train_20,method = \"rf\",trControl = trControl),\n",
    "               'TotalTimeStopped_p80'=train(TotalTimeStopped_p80 ~.,data = train_20,method = \"rf\",trControl = trControl),\n",
    "               'DistanceToFirstStop_p80'=train(DistanceToFirstStop_p80 ~.,data = train_20,method = \"rf\", trControl = trControl)\n",
    "              )\n",
    "    x_val<-val_20[,!(names(val_20) %in% i)]\n",
    "    y_val<-val_20[,(names(val_20) = i)]\n",
    "    predicted <- predict(rf,x_val)  \n",
    "    rmse<-RMSE(predicted,y_val)\n",
    "    print(i)\n",
    "    print(rmse)\n",
    "    \n",
    "    preFrame[[i]]<-predicted \n",
    "    valFrame[[i]]<-y_val\n",
    "}\n",
    "preFrame<-as.data.frame(preFrame)\n",
    "valFrame<-as.data.frame(valFrame)\n",
    "#print(preFrame)\n",
    "#print(valFrame)\n",
    "\n",
    "pre<-c(t(preFrame))\n",
    "obs<-c(t(valFrame))\n",
    "\n",
    "rmse<-RMSE(pre,obs)\n",
    "#print(\"General target rmse\")\n",
    "#print(rmse)"
   ]
  },
  {
   "cell_type": "markdown",
   "id": "9e55d554",
   "metadata": {},
   "source": [
    "Sau khi đào tạo mô hình hoàn tất, các giá trị được dự đoán như trên.\n",
    "\n",
    "## 2.4 Gradient Boosting model\n",
    "\n",
    "Cài đặt mặc định trong gbm có tỷ lệ học tập (learning rate) là 0,001. Đây là một tỷ lệ học tập rất nhỏ và thường yêu cầu một số lượng lớn cây để tìm ra MSE tối thiểu. Tuy nhiên, gbm sử dụng số lượng cây mặc định là 100, điều này là không đủ trong trường hợp này. Do đó, ta sẽ sử dụng lên đến 10.000 cây. Độ sâu mặc định của mỗi cây (depth) là 1, có nghĩa là chúng ta đang tập hợp một loạt các gốc cây. Cuối cùng, ta cũng sẽ sử dụng cv.folds để thực hiện xác thực chéo 5 lần. Mô hình mất khoảng 90 giây để chạy và kết quả cho thấy rằng hàm mất mát MSE của chúng tôi được giảm thiểu với 10.000 cây.\n",
    "\n",
    "Ở đây, chúng ta sẽ sử dụng 1 biến phản hồi duy nhất `TotalTimeStopped_p20` để kiểm tra mô hình gbm này:"
   ]
  },
  {
   "cell_type": "code",
   "execution_count": null,
   "id": "db33e556",
   "metadata": {},
   "outputs": [],
   "source": [
    "# For gmb\n",
    "\n",
    "#TotalTimeStopped_p20\n",
    "object<-c('TotalTimeStopped_p50','TotalTimeStopped_p80','DistanceToFirstStop_p20','DistanceToFirstStop_p50','DistanceToFirstStop_p80')\n",
    "train_20 <- train_sp[,!(names(train_sp) %in% object)]\n",
    "val_20 <- val_sp[,!(names(val_sp) %in% object)]\n",
    "\n",
    "set.seed(123)\n",
    "\n",
    "# train GBM model\n",
    "gbm.fit <- gbm(\n",
    "  formula = TotalTimeStopped_p20 ~ .,\n",
    "  distribution = \"gaussian\",\n",
    "  data = train_20,\n",
    "  n.trees = 1000,\n",
    "  interaction.depth = 1,\n",
    "  shrinkage = 0.001,\n",
    "  cv.folds = 5,\n",
    "  n.cores = NULL, # will use all cores by default\n",
    "  verbose = FALSE\n",
    "  )  \n",
    "\n"
   ]
  },
  {
   "cell_type": "markdown",
   "id": "fe1bd14b",
   "metadata": {},
   "source": [
    "Ta đi tìm RMSE thông qua tính `sqrt` của MSE trong mô hình với các tham số trên."
   ]
  },
  {
   "cell_type": "code",
   "execution_count": null,
   "id": "3e1efc5e",
   "metadata": {},
   "outputs": [],
   "source": [
    "# get MSE and compute RMSE\n",
    "sqrt(min(gbm.fit$cv.error))\n",
    "\n",
    "# plot loss function as a result of n trees added to the ensemble\n",
    "gbm.perf(gbm.fit, method = \"cv\")"
   ]
  },
  {
   "cell_type": "markdown",
   "id": "aac21e6b",
   "metadata": {},
   "source": [
    "RMSE của mô hình này hơn 6,7 giây cho biến phản hồi y `TotalTimeStopped_p20` nên ta cần phải thử các tham số khác để tìm ra mô hình dự đoán tốt nhất. Ta cần tạo một hyperparameter grid để áp dụng một lần nhiều giá trị khác nhau."
   ]
  },
  {
   "cell_type": "code",
   "execution_count": null,
   "id": "611ed568",
   "metadata": {},
   "outputs": [],
   "source": [
    "# create hyperparameter grid\n",
    "hyper_grid <- expand.grid(\n",
    "  shrinkage = c(.01, .05, .1),\n",
    "  interaction.depth = c(3, 5, 7),\n",
    "  n.minobsinnode = c(5, 7, 10),\n",
    "  bag.fraction = c(.65, .8, 1), \n",
    "  optimal_trees = 0,               # a place to dump results\n",
    "  min_RMSE = 0                     # a place to dump results\n",
    ")\n",
    "\n",
    "# total number of combinations\n",
    "nrow(hyper_grid)"
   ]
  },
  {
   "cell_type": "code",
   "execution_count": null,
   "id": "3df97371",
   "metadata": {},
   "outputs": [],
   "source": [
    "# randomize data\n",
    "random_index <- sample(1:nrow(train_20), nrow(train_20))\n",
    "random_train <- train_20[random_index, ]\n",
    "\n",
    "# grid search \n",
    "for(i in 1:nrow(hyper_grid)) {\n",
    "  \n",
    "  # reproducibility\n",
    "  set.seed(123)\n",
    "  \n",
    "  # train model\n",
    "  gbm.tune <- gbm(\n",
    "    formula = TotalTimeStopped_p20 ~ .,\n",
    "    distribution = \"gaussian\",\n",
    "    data = random_train,\n",
    "    n.trees = 5000,\n",
    "    interaction.depth = hyper_grid$interaction.depth[i],\n",
    "    shrinkage = hyper_grid$shrinkage[i],\n",
    "    n.minobsinnode = hyper_grid$n.minobsinnode[i],\n",
    "    bag.fraction = hyper_grid$bag.fraction[i],\n",
    "    train.fraction = .75,\n",
    "    n.cores = NULL, # will use all cores by default\n",
    "    verbose = FALSE\n",
    "  )\n",
    "  \n",
    "  # add min training error and trees to grid\n",
    "  hyper_grid$optimal_trees[i] <- which.min(gbm.tune$valid.error)\n",
    "  hyper_grid$min_RMSE[i] <- sqrt(min(gbm.tune$valid.error))\n",
    "}\n",
    "\n",
    "hyper_grid %>% \n",
    "  dplyr::arrange(min_RMSE) %>%\n",
    "  head(20)"
   ]
  },
  {
   "cell_type": "markdown",
   "id": "50d2751d",
   "metadata": {},
   "source": [
    "Khi tìm thấy mô hình tốt nhất trong đây, ta đào tạo một mô hình với các thông số cụ thể đó. Và vì mô hình hội tụ ở 2619 cây nên chúng ta cần đào tạo một mô hình đã được xác thực chéo (để cung cấp ước tính sai số mạnh mẽ hơn) với 1000 cây."
   ]
  },
  {
   "cell_type": "code",
   "execution_count": null,
   "id": "d7ccce89",
   "metadata": {},
   "outputs": [],
   "source": [
    "set.seed(123)\n",
    "\n",
    "# train GBM model\n",
    "gbm.fit.final <- gbm(\n",
    "  formula = TotalTimeStopped_p20 ~ .,\n",
    "  distribution = \"gaussian\",\n",
    "  data = train_20,\n",
    "  n.trees = 2619,\n",
    "  interaction.depth = 5,\n",
    "  shrinkage = 0.01,\n",
    "  n.minobsinnode = 5,\n",
    "  bag.fraction = 0.80, \n",
    "  train.fraction = 1,\n",
    "  cv.folds = 5,\n",
    "  #n.cores = NULL, # will use all cores by default\n",
    "  verbose = FALSE\n",
    "  ) "
   ]
  },
  {
   "cell_type": "code",
   "execution_count": null,
   "id": "de46e6f2",
   "metadata": {},
   "outputs": [],
   "source": [
    "# get MSE and compute RMSE\n",
    "sqrt(min(gbm.fit.final$cv.error))\n",
    "a <- sqrt(min(gbm.fit.final$cv.error))\n",
    "# plot loss function as a result of n trees added to the ensemble\n",
    "gbm.perf(gbm.fit.final, method = \"cv\")"
   ]
  },
  {
   "cell_type": "code",
   "execution_count": null,
   "id": "7c6274f2",
   "metadata": {},
   "outputs": [],
   "source": [
    "#TotalTimeStopped_p50\n",
    "\n",
    "object<-c('TotalTimeStopped_p20','TotalTimeStopped_p80','DistanceToFirstStop_p20','DistanceToFirstStop_p50','DistanceToFirstStop_p80')\n",
    "train_20 <- train_sp[,!(names(train_sp) %in% object)]\n",
    "val_20 <- val_sp[,!(names(val_sp) %in% object)]\n",
    "\n",
    "# for reproducibility\n",
    "set.seed(1000)\n",
    "\n",
    "# train GBM model\n",
    "gbm.fit_b <- gbm(\n",
    "  formula = TotalTimeStopped_p50 ~ .,\n",
    "  distribution = \"gaussian\",\n",
    "  data = train_20,\n",
    "  n.trees = 2619,\n",
    "  interaction.depth = 5,\n",
    "  shrinkage = 0.01,\n",
    "  n.minobsinnode = 5,\n",
    "  bag.fraction = 0.80, \n",
    "  train.fraction = 1,\n",
    "  cv.folds = 5,\n",
    "  n.cores = NULL, # will use all cores by default\n",
    "  verbose = FALSE\n",
    "  )  \n",
    "\n",
    "# get MSE and compute RMSE\n",
    "b <- sqrt(min(gbm.fit_b$cv.error))\n",
    "bPre<-predict(gbm.fit_b,val_20)\n",
    "bObs<-val_20"
   ]
  },
  {
   "cell_type": "code",
   "execution_count": null,
   "id": "c17cacf9",
   "metadata": {},
   "outputs": [],
   "source": [
    "#TotalTimeStopped_p80\n",
    "object<-c('TotalTimeStopped_p20','TotalTimeStopped_p50','DistanceToFirstStop_p20','DistanceToFirstStop_p50','DistanceToFirstStop_p80')\n",
    "train_20 <- train_sp[,!(names(train_sp) %in% object)]\n",
    "val_20 <- val_sp[,!(names(val_sp) %in% object)]\n",
    "\n",
    "# for reproducibility\n",
    "set.seed(123)\n",
    "\n",
    "# train GBM model\n",
    "gbm.fit_c <- gbm(\n",
    "  formula = TotalTimeStopped_p80 ~ .,\n",
    "  distribution = \"gaussian\",\n",
    "  data = train_20,\n",
    "  n.trees = 2619,\n",
    "  interaction.depth = 5,\n",
    "  shrinkage = 0.01,\n",
    "  n.minobsinnode = 5,\n",
    "  bag.fraction = 0.80, \n",
    "  train.fraction = 1,\n",
    "  cv.folds = 5,\n",
    "  n.cores = NULL, # will use all cores by default\n",
    "  verbose = FALSE\n",
    "  )  \n",
    "\n",
    "# get MSE and compute RMSE\n",
    "c <- sqrt(min(gbm.fit_c$cv.error))\n",
    "cPre<-predict(gbm.fit_c,val_20)\n",
    "cObs<-val_20"
   ]
  },
  {
   "cell_type": "code",
   "execution_count": null,
   "id": "83530334",
   "metadata": {},
   "outputs": [],
   "source": [
    "#DistanceToFirstStop_p20\n",
    "object<-c('TotalTimeStopped_p20','TotalTimeStopped_p50','TotalTimeStopped_p80','DistanceToFirstStop_p50','DistanceToFirstStop_p80')\n",
    "train_20 <- train_sp[,!(names(train_sp) %in% object)]\n",
    "val_20 <- val_sp[,!(names(val_sp) %in% object)]\n",
    "\n",
    "# for reproducibility\n",
    "set.seed(123)\n",
    "\n",
    "# train GBM model\n",
    "gbm.fit_d <- gbm(\n",
    "  formula = DistanceToFirstStop_p20 ~ .,\n",
    "  distribution = \"gaussian\",\n",
    "  data = train_20,\n",
    "  n.trees = 2619,\n",
    "  interaction.depth = 5,\n",
    "  shrinkage = 0.01,\n",
    "  n.minobsinnode = 5,\n",
    "  bag.fraction = 0.80, \n",
    "  train.fraction = 1,\n",
    "  cv.folds = 5,\n",
    "  n.cores = NULL, # will use all cores by default\n",
    "  verbose = FALSE\n",
    "  )  \n",
    "\n",
    "# get MSE and compute RMSE\n",
    "d <- sqrt(min(gbm.fit_d$cv.error))\n",
    "dPre<-predict(gbm.fit_d,val_20)\n",
    "dObs<-val_20"
   ]
  },
  {
   "cell_type": "code",
   "execution_count": null,
   "id": "bc478ecf",
   "metadata": {},
   "outputs": [],
   "source": [
    "#DistanceToFirstStop_p50\n",
    "object<-c('TotalTimeStopped_p20','TotalTimeStopped_p50','TotalTimeStopped_p80','DistanceToFirstStop_p20','DistanceToFirstStop_p80')\n",
    "train_20 <- train_sp[,!(names(train_sp) %in% object)]\n",
    "val_20 <- val_sp[,!(names(val_sp) %in% object)]\n",
    "# for reproducibility\n",
    "set.seed(123)\n",
    "\n",
    "# train GBM model\n",
    "gbm.fit_e <- gbm(\n",
    "  formula = DistanceToFirstStop_p50 ~ .,\n",
    "  distribution = \"gaussian\",\n",
    "  data = train_20,\n",
    "  n.trees = 2619,\n",
    "  interaction.depth = 5,\n",
    "  shrinkage = 0.01,\n",
    "  n.minobsinnode = 5,\n",
    "  bag.fraction = 0.80, \n",
    "  train.fraction = 1,\n",
    "  cv.folds = 5,\n",
    "  n.cores = NULL, # will use all cores by default\n",
    "  verbose = FALSE\n",
    "  )  \n",
    "\n",
    "# get MSE and compute RMSE\n",
    "e <- sqrt(min(gbm.fit_e$cv.error))\n",
    "ePre<-predict(gbm.fit_e,val_20)\n",
    "eObs<-val_20"
   ]
  },
  {
   "cell_type": "code",
   "execution_count": null,
   "id": "a6345e39",
   "metadata": {},
   "outputs": [],
   "source": [
    "#DistanceToFirstStop_p80\n",
    "object<-c('TotalTimeStopped_p20','TotalTimeStopped_p50','TotalTimeStopped_p80','DistanceToFirstStop_p20','DistanceToFirstStop_p50')\n",
    "train_20 <- train_sp[,!(names(train_sp) %in% object)]\n",
    "val_20 <- val_sp[,!(names(val_sp) %in% object)]\n",
    "\n",
    "# for reproducibility\n",
    "set.seed(123)\n",
    "\n",
    "# train GBM model\n",
    "gbm.fit_f <- gbm(\n",
    "  formula = DistanceToFirstStop_p80 ~ .,\n",
    "  distribution = \"gaussian\",\n",
    "  data = train_20,\n",
    "  n.trees = 2619,\n",
    "  interaction.depth = 5,\n",
    "  shrinkage = 0.01,\n",
    "  n.minobsinnode = 5,\n",
    "  bag.fraction = 0.80, \n",
    "  train.fraction = 1,\n",
    "  cv.folds = 5,\n",
    "  n.cores = NULL, # will use all cores by default\n",
    "  verbose = FALSE\n",
    "  )  \n",
    "\n",
    "# get MSE and compute RMSE\n",
    "f <- sqrt(min(gbm.fit_f$cv.error))\n",
    "fPre<-predict(gbm.fit_f,val_20)\n",
    "fObs<-val_20"
   ]
  },
  {
   "cell_type": "code",
   "execution_count": null,
   "id": "21339342",
   "metadata": {},
   "outputs": [],
   "source": [
    "print(\"TotalTimeStopped_p20\")\n",
    "print(a)\n",
    "print(\"DistanceToFirstStop_p20\")\n",
    "print(b)\n",
    "print(\"TotalTimeStopped_p50\")\n",
    "print(c)\n",
    "print(\"DistanceToFirstStop_p50\")\n",
    "print(d)\n",
    "print(\"TotalTimeStopped_p80\")\n",
    "print(e)\n",
    "print(\"DistanceToFirstStop_p80\")\n",
    "print(f)"
   ]
  },
  {
   "cell_type": "markdown",
   "id": "905e6b11",
   "metadata": {},
   "source": [
    "Trên đây là kết quả khi traning với mô hình Gradient boosting, ta có thể thấy, nhìn chung, mô hình Gradient Boosting cho kết quả tốt hơn so với mô hình nhóm đã sử dụng trên.\n",
    "\n",
    "Dưới đây, ta sẽ vẽ xem biểu đồ thể hiện loss function:"
   ]
  },
  {
   "cell_type": "code",
   "execution_count": null,
   "id": "de61843f",
   "metadata": {},
   "outputs": [],
   "source": [
    "\n",
    "# plot loss function as a result of n trees added to the ensemble\n",
    "gbm.perf(gbm.fit_a, method = \"cv\")\n",
    "gbm.perf(gbm.fit_b, method = \"cv\")\n",
    "gbm.perf(gbm.fit_c, method = \"cv\")\n",
    "gbm.perf(gbm.fit_d, method = \"cv\")\n",
    "gbm.perf(gbm.fit_e, method = \"cv\")\n",
    "gbm.perf(gbm.fit_f, method = \"cv\")"
   ]
  },
  {
   "cell_type": "markdown",
   "id": "661b7515",
   "metadata": {},
   "source": [
    "Để xem xét biến nào ảnh hưởng tới mô hình nhiều hơn, ta sẽ sử dụng biểu đồ phụ thuộc một phần với mô hình của `TotaltimeStoped_p20` với biến `Hour`."
   ]
  },
  {
   "cell_type": "code",
   "execution_count": null,
   "id": "36621d14",
   "metadata": {},
   "outputs": [],
   "source": [
    "pdp <- gbm.fit_a %>%\n",
    "  partial(pred.var = \"Hour\", n.trees = 1576, grid.resolution = 100, train = train_sp) %>%\n",
    "  autoplot(rug = TRUE, train = train_sp)  +\n",
    "  ggtitle(\"PDP\")\n",
    "\n",
    "\n",
    "gridExtra::grid.arrange(pdp, nrow = 1)"
   ]
  },
  {
   "cell_type": "code",
   "execution_count": null,
   "id": "11fb7a72",
   "metadata": {},
   "outputs": [],
   "source": [
    "submit<-read.csv(file = '../input/bigquery-geotab-intersection-congestion/sample_submission.csv')\n",
    "submit$Target<-pre\n",
    "write.csv(submit,'submission.csv')"
   ]
  },
  {
   "cell_type": "code",
   "execution_count": null,
   "id": "e43dad98",
   "metadata": {},
   "outputs": [],
   "source": [
    "names(submit)\n",
    "submit<-read.csv(file = './submit.csv')\n",
    "nrow(submit)"
   ]
  }
 ],
 "metadata": {
  "jupytext": {
   "cell_metadata_filter": "name,tags,-all",
   "main_language": "R",
   "notebook_metadata_filter": "-all"
  },
  "language_info": {
   "name": "python"
  }
 },
 "nbformat": 4,
 "nbformat_minor": 5
}
